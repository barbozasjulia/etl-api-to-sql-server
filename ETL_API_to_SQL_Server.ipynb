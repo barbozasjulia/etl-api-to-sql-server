{
 "cells": [
  {
   "cell_type": "markdown",
   "id": "1aa6de47",
   "metadata": {},
   "source": [
    "---\n",
    "\n",
    "# Extract\n",
    "\n",
    "Extração de Dados a partir da API de [Star Wars](https://swapi.dev/api).\n",
    "\n",
    "---"
   ]
  },
  {
   "cell_type": "code",
   "execution_count": 1,
   "id": "1d60eb02",
   "metadata": {},
   "outputs": [],
   "source": [
    "# importação das bibliotecas json para trabalhar com a estrutura de dados e requests para solicitação de requisição da API\n",
    "import json\n",
    "import requests"
   ]
  },
  {
   "cell_type": "code",
   "execution_count": 2,
   "id": "b393bb17",
   "metadata": {},
   "outputs": [],
   "source": [
    "# obtenção das urls dos objetos a serem trabalhados\n",
    "url_people = 'https://swapi.dev/api/people/'\n",
    "url_planets =  'https://swapi.dev/api/planets/'\n",
    "url_starships = 'https://swapi.dev/api/starships/'"
   ]
  },
  {
   "cell_type": "markdown",
   "id": "7f34485c",
   "metadata": {},
   "source": [
    "### Extração de Dados dos Planetas"
   ]
  },
  {
   "cell_type": "code",
   "execution_count": 3,
   "id": "b9934976",
   "metadata": {},
   "outputs": [],
   "source": [
    "list_planets = []\n",
    "\n",
    "for i in range(1,61):\n",
    "  planet = []\n",
    "  request = requests.get(url_planets + str(i))\n",
    "  if request.status_code == 200:\n",
    "    api_result = json.loads(request.content)\n",
    "    planet.append(i)\n",
    "    planet.append(api_result['name'])\n",
    "    planet.append(api_result['rotation_period'])\n",
    "    planet.append(api_result['orbital_period'])\n",
    "    planet.append(api_result['diameter'])\n",
    "    planet.append(api_result['climate'])\n",
    "    planet.append(api_result['population'])\n",
    "    list_planets.append(planet)"
   ]
  },
  {
   "cell_type": "markdown",
   "id": "f36a8a28",
   "metadata": {},
   "source": [
    "### Extração de Dados dos Pilotos"
   ]
  },
  {
   "cell_type": "code",
   "execution_count": 4,
   "id": "f43477f7",
   "metadata": {},
   "outputs": [],
   "source": [
    "list_people = []\n",
    "\n",
    "for i in range(1,84):\n",
    "  person = []\n",
    "  request = requests.get(url_people + str(i))\n",
    "  if request.status_code == 200:\n",
    "    api_result = json.loads(request.content)\n",
    "    person.append(i)\n",
    "    person.append(api_result['name'])\n",
    "    person.append(api_result['birth_year'])\n",
    "    person.append(api_result['homeworld'][30:].replace('/',''))\n",
    "    list_people.append(person)"
   ]
  },
  {
   "cell_type": "markdown",
   "id": "e95de079",
   "metadata": {},
   "source": [
    "### Extração de Dados das Naves"
   ]
  },
  {
   "cell_type": "code",
   "execution_count": 5,
   "id": "8362a390",
   "metadata": {},
   "outputs": [],
   "source": [
    "list_starships = []\n",
    "\n",
    "for i in range(1,76):\n",
    "  starship = []\n",
    "  request = requests.get(url_starships + str(i))\n",
    "  if request.status_code == 200:\n",
    "    api_result = json.loads(request.content)\n",
    "    starship.append(i)\n",
    "    starship.append(api_result['name'])\n",
    "    starship.append(api_result['model'])\n",
    "    starship.append(api_result['passengers'])\n",
    "    starship.append(api_result['cargo_capacity'])\n",
    "    starship.append(api_result['starship_class'])\n",
    "    list_starships.append(starship) "
   ]
  },
  {
   "cell_type": "markdown",
   "id": "4e4dbeca",
   "metadata": {},
   "source": [
    "---\n",
    "\n",
    "# Transform\n",
    "\n",
    "Utilização do Pandas para alterar os tipos das colunas.\n",
    "\n",
    "---"
   ]
  },
  {
   "cell_type": "code",
   "execution_count": 6,
   "id": "ab4bd4ef",
   "metadata": {},
   "outputs": [],
   "source": [
    "# importação da biblioteca pandas\n",
    "import pandas as pd\n",
    "import numpy as np"
   ]
  },
  {
   "cell_type": "markdown",
   "id": "912e12a1",
   "metadata": {},
   "source": [
    "### Registros de Planetas"
   ]
  },
  {
   "cell_type": "code",
   "execution_count": 7,
   "id": "c63e2b2c",
   "metadata": {},
   "outputs": [
    {
     "name": "stdout",
     "output_type": "stream",
     "text": [
      "<class 'pandas.core.frame.DataFrame'>\n",
      "RangeIndex: 60 entries, 0 to 59\n",
      "Data columns (total 7 columns):\n",
      " #   Column  Non-Null Count  Dtype \n",
      "---  ------  --------------  ----- \n",
      " 0   0       60 non-null     int64 \n",
      " 1   1       60 non-null     object\n",
      " 2   2       60 non-null     object\n",
      " 3   3       60 non-null     object\n",
      " 4   4       60 non-null     object\n",
      " 5   5       60 non-null     object\n",
      " 6   6       60 non-null     object\n",
      "dtypes: int64(1), object(6)\n",
      "memory usage: 3.4+ KB\n"
     ]
    },
    {
     "data": {
      "text/html": [
       "<div>\n",
       "<style scoped>\n",
       "    .dataframe tbody tr th:only-of-type {\n",
       "        vertical-align: middle;\n",
       "    }\n",
       "\n",
       "    .dataframe tbody tr th {\n",
       "        vertical-align: top;\n",
       "    }\n",
       "\n",
       "    .dataframe thead th {\n",
       "        text-align: right;\n",
       "    }\n",
       "</style>\n",
       "<table border=\"1\" class=\"dataframe\">\n",
       "  <thead>\n",
       "    <tr style=\"text-align: right;\">\n",
       "      <th></th>\n",
       "      <th>0</th>\n",
       "      <th>1</th>\n",
       "      <th>2</th>\n",
       "      <th>3</th>\n",
       "      <th>4</th>\n",
       "      <th>5</th>\n",
       "      <th>6</th>\n",
       "    </tr>\n",
       "  </thead>\n",
       "  <tbody>\n",
       "    <tr>\n",
       "      <th>0</th>\n",
       "      <td>1</td>\n",
       "      <td>Tatooine</td>\n",
       "      <td>23</td>\n",
       "      <td>304</td>\n",
       "      <td>10465</td>\n",
       "      <td>arid</td>\n",
       "      <td>200000</td>\n",
       "    </tr>\n",
       "    <tr>\n",
       "      <th>1</th>\n",
       "      <td>2</td>\n",
       "      <td>Alderaan</td>\n",
       "      <td>24</td>\n",
       "      <td>364</td>\n",
       "      <td>12500</td>\n",
       "      <td>temperate</td>\n",
       "      <td>2000000000</td>\n",
       "    </tr>\n",
       "    <tr>\n",
       "      <th>2</th>\n",
       "      <td>3</td>\n",
       "      <td>Yavin IV</td>\n",
       "      <td>24</td>\n",
       "      <td>4818</td>\n",
       "      <td>10200</td>\n",
       "      <td>temperate, tropical</td>\n",
       "      <td>1000</td>\n",
       "    </tr>\n",
       "    <tr>\n",
       "      <th>3</th>\n",
       "      <td>4</td>\n",
       "      <td>Hoth</td>\n",
       "      <td>23</td>\n",
       "      <td>549</td>\n",
       "      <td>7200</td>\n",
       "      <td>frozen</td>\n",
       "      <td>unknown</td>\n",
       "    </tr>\n",
       "    <tr>\n",
       "      <th>4</th>\n",
       "      <td>5</td>\n",
       "      <td>Dagobah</td>\n",
       "      <td>23</td>\n",
       "      <td>341</td>\n",
       "      <td>8900</td>\n",
       "      <td>murky</td>\n",
       "      <td>unknown</td>\n",
       "    </tr>\n",
       "  </tbody>\n",
       "</table>\n",
       "</div>"
      ],
      "text/plain": [
       "   0         1   2     3      4                    5           6\n",
       "0  1  Tatooine  23   304  10465                 arid      200000\n",
       "1  2  Alderaan  24   364  12500            temperate  2000000000\n",
       "2  3  Yavin IV  24  4818  10200  temperate, tropical        1000\n",
       "3  4      Hoth  23   549   7200               frozen     unknown\n",
       "4  5   Dagobah  23   341   8900                murky     unknown"
      ]
     },
     "execution_count": 7,
     "metadata": {},
     "output_type": "execute_result"
    }
   ],
   "source": [
    "# criação de dataframe a partir da lista de registros 'list_planets'\n",
    "df_planetas = pd.DataFrame(list_planets)\n",
    "df_planetas.info()\n",
    "df_planetas.head()"
   ]
  },
  {
   "cell_type": "code",
   "execution_count": 8,
   "id": "6d182faf",
   "metadata": {},
   "outputs": [
    {
     "name": "stdout",
     "output_type": "stream",
     "text": [
      "<class 'pandas.core.frame.DataFrame'>\n",
      "RangeIndex: 60 entries, 0 to 59\n",
      "Data columns (total 7 columns):\n",
      " #   Column     Non-Null Count  Dtype \n",
      "---  ------     --------------  ----- \n",
      " 0   IdPlaneta  60 non-null     int64 \n",
      " 1   Nome       60 non-null     object\n",
      " 2   Rotacao    60 non-null     object\n",
      " 3   Orbita     60 non-null     object\n",
      " 4   Diametro   60 non-null     object\n",
      " 5   Clima      60 non-null     object\n",
      " 6   Populacao  60 non-null     object\n",
      "dtypes: int64(1), object(6)\n",
      "memory usage: 3.4+ KB\n"
     ]
    }
   ],
   "source": [
    "# renomeação das colunas\n",
    "df_planetas = df_planetas.rename(columns={0:'IdPlaneta', 1:'Nome', 2:'Rotacao', 3:'Orbita', 4:'Diametro', 5:'Clima', 6:'Populacao'})\n",
    "df_planetas.info()"
   ]
  },
  {
   "cell_type": "code",
   "execution_count": 9,
   "id": "e9d00261",
   "metadata": {},
   "outputs": [
    {
     "name": "stdout",
     "output_type": "stream",
     "text": [
      "<class 'pandas.core.frame.DataFrame'>\n",
      "RangeIndex: 60 entries, 0 to 59\n",
      "Data columns (total 7 columns):\n",
      " #   Column     Non-Null Count  Dtype  \n",
      "---  ------     --------------  -----  \n",
      " 0   IdPlaneta  60 non-null     int64  \n",
      " 1   Nome       60 non-null     object \n",
      " 2   Rotacao    48 non-null     float32\n",
      " 3   Orbita     48 non-null     float32\n",
      " 4   Diametro   44 non-null     float32\n",
      " 5   Clima      60 non-null     object \n",
      " 6   Populacao  43 non-null     float64\n",
      "dtypes: float32(3), float64(1), int64(1), object(2)\n",
      "memory usage: 2.7+ KB\n"
     ]
    }
   ],
   "source": [
    "# converão de colunas para tipos numéricos\n",
    "df_planetas['Rotacao'] = pd.to_numeric(df_planetas['Rotacao'], downcast='float', errors='coerce')\n",
    "df_planetas['Orbita'] = pd.to_numeric(df_planetas['Orbita'], downcast='float', errors='coerce')\n",
    "df_planetas['Diametro'] = pd.to_numeric(df_planetas['Diametro'], downcast='float', errors='coerce')\n",
    "df_planetas['Populacao'] = pd.to_numeric(df_planetas['Populacao'], errors='coerce')\n",
    "df_planetas.info()"
   ]
  },
  {
   "cell_type": "code",
   "execution_count": 10,
   "id": "4affef1f",
   "metadata": {},
   "outputs": [
    {
     "name": "stdout",
     "output_type": "stream",
     "text": [
      "<class 'pandas.core.frame.DataFrame'>\n",
      "RangeIndex: 60 entries, 0 to 59\n",
      "Data columns (total 7 columns):\n",
      " #   Column     Non-Null Count  Dtype  \n",
      "---  ------     --------------  -----  \n",
      " 0   IdPlaneta  60 non-null     int64  \n",
      " 1   Nome       60 non-null     object \n",
      " 2   Rotacao    60 non-null     float32\n",
      " 3   Orbita     60 non-null     float32\n",
      " 4   Diametro   60 non-null     float32\n",
      " 5   Clima      60 non-null     object \n",
      " 6   Populacao  60 non-null     float64\n",
      "dtypes: float32(3), float64(1), int64(1), object(2)\n",
      "memory usage: 2.7+ KB\n"
     ]
    }
   ],
   "source": [
    "# substituição de valores nulos por 0 (zero)\n",
    "df_planetas = df_planetas.replace(np.nan, 0)\n",
    "df_planetas.info()"
   ]
  },
  {
   "cell_type": "code",
   "execution_count": 11,
   "id": "8c568aa3",
   "metadata": {},
   "outputs": [
    {
     "name": "stdout",
     "output_type": "stream",
     "text": [
      "<class 'pandas.core.frame.DataFrame'>\n",
      "RangeIndex: 60 entries, 0 to 59\n",
      "Data columns (total 7 columns):\n",
      " #   Column     Non-Null Count  Dtype  \n",
      "---  ------     --------------  -----  \n",
      " 0   IdPlaneta  60 non-null     int64  \n",
      " 1   Nome       60 non-null     object \n",
      " 2   Rotacao    60 non-null     float32\n",
      " 3   Orbita     60 non-null     float32\n",
      " 4   Diametro   60 non-null     float32\n",
      " 5   Clima      60 non-null     object \n",
      " 6   Populacao  60 non-null     Int64  \n",
      "dtypes: Int64(1), float32(3), int64(1), object(2)\n",
      "memory usage: 2.8+ KB\n"
     ]
    }
   ],
   "source": [
    "# converão da coluna 'Populacao' para tipo Int64 (longint)\n",
    "df_planetas['Populacao'] = df_planetas['Populacao'].astype('Int64')\n",
    "df_planetas.info()"
   ]
  },
  {
   "cell_type": "markdown",
   "id": "41bdd9cc",
   "metadata": {},
   "source": [
    "### Registros de Pilotos"
   ]
  },
  {
   "cell_type": "code",
   "execution_count": 12,
   "id": "1b8d4268",
   "metadata": {},
   "outputs": [
    {
     "name": "stdout",
     "output_type": "stream",
     "text": [
      "<class 'pandas.core.frame.DataFrame'>\n",
      "RangeIndex: 82 entries, 0 to 81\n",
      "Data columns (total 4 columns):\n",
      " #   Column  Non-Null Count  Dtype \n",
      "---  ------  --------------  ----- \n",
      " 0   0       82 non-null     int64 \n",
      " 1   1       82 non-null     object\n",
      " 2   2       82 non-null     object\n",
      " 3   3       82 non-null     object\n",
      "dtypes: int64(1), object(3)\n",
      "memory usage: 2.7+ KB\n"
     ]
    },
    {
     "data": {
      "text/html": [
       "<div>\n",
       "<style scoped>\n",
       "    .dataframe tbody tr th:only-of-type {\n",
       "        vertical-align: middle;\n",
       "    }\n",
       "\n",
       "    .dataframe tbody tr th {\n",
       "        vertical-align: top;\n",
       "    }\n",
       "\n",
       "    .dataframe thead th {\n",
       "        text-align: right;\n",
       "    }\n",
       "</style>\n",
       "<table border=\"1\" class=\"dataframe\">\n",
       "  <thead>\n",
       "    <tr style=\"text-align: right;\">\n",
       "      <th></th>\n",
       "      <th>0</th>\n",
       "      <th>1</th>\n",
       "      <th>2</th>\n",
       "      <th>3</th>\n",
       "    </tr>\n",
       "  </thead>\n",
       "  <tbody>\n",
       "    <tr>\n",
       "      <th>0</th>\n",
       "      <td>1</td>\n",
       "      <td>Luke Skywalker</td>\n",
       "      <td>19BBY</td>\n",
       "      <td>1</td>\n",
       "    </tr>\n",
       "    <tr>\n",
       "      <th>1</th>\n",
       "      <td>2</td>\n",
       "      <td>C-3PO</td>\n",
       "      <td>112BBY</td>\n",
       "      <td>1</td>\n",
       "    </tr>\n",
       "    <tr>\n",
       "      <th>2</th>\n",
       "      <td>3</td>\n",
       "      <td>R2-D2</td>\n",
       "      <td>33BBY</td>\n",
       "      <td>8</td>\n",
       "    </tr>\n",
       "    <tr>\n",
       "      <th>3</th>\n",
       "      <td>4</td>\n",
       "      <td>Darth Vader</td>\n",
       "      <td>41.9BBY</td>\n",
       "      <td>1</td>\n",
       "    </tr>\n",
       "    <tr>\n",
       "      <th>4</th>\n",
       "      <td>5</td>\n",
       "      <td>Leia Organa</td>\n",
       "      <td>19BBY</td>\n",
       "      <td>2</td>\n",
       "    </tr>\n",
       "  </tbody>\n",
       "</table>\n",
       "</div>"
      ],
      "text/plain": [
       "   0               1        2  3\n",
       "0  1  Luke Skywalker    19BBY  1\n",
       "1  2           C-3PO   112BBY  1\n",
       "2  3           R2-D2    33BBY  8\n",
       "3  4     Darth Vader  41.9BBY  1\n",
       "4  5     Leia Organa    19BBY  2"
      ]
     },
     "execution_count": 12,
     "metadata": {},
     "output_type": "execute_result"
    }
   ],
   "source": [
    "# criação de dataframe a partir da lista de registros 'list_people'\n",
    "df_pilotos = pd.DataFrame(list_people)\n",
    "df_pilotos.info()\n",
    "df_pilotos.head()"
   ]
  },
  {
   "cell_type": "code",
   "execution_count": 13,
   "id": "14a32a1d",
   "metadata": {},
   "outputs": [
    {
     "name": "stdout",
     "output_type": "stream",
     "text": [
      "<class 'pandas.core.frame.DataFrame'>\n",
      "RangeIndex: 82 entries, 0 to 81\n",
      "Data columns (total 4 columns):\n",
      " #   Column         Non-Null Count  Dtype \n",
      "---  ------         --------------  ----- \n",
      " 0   IdPiloto       82 non-null     int64 \n",
      " 1   Nome           82 non-null     object\n",
      " 2   AnoNascimento  82 non-null     object\n",
      " 3   IdPlaneta      82 non-null     object\n",
      "dtypes: int64(1), object(3)\n",
      "memory usage: 2.7+ KB\n"
     ]
    }
   ],
   "source": [
    "# renomeação das colunas\n",
    "df_pilotos = df_pilotos.rename(columns={0:'IdPiloto', 1:'Nome', 2:'AnoNascimento', 3:'IdPlaneta'})\n",
    "df_pilotos.info()"
   ]
  },
  {
   "cell_type": "code",
   "execution_count": 14,
   "id": "373b7580",
   "metadata": {},
   "outputs": [
    {
     "name": "stdout",
     "output_type": "stream",
     "text": [
      "<class 'pandas.core.frame.DataFrame'>\n",
      "RangeIndex: 82 entries, 0 to 81\n",
      "Data columns (total 4 columns):\n",
      " #   Column         Non-Null Count  Dtype \n",
      "---  ------         --------------  ----- \n",
      " 0   IdPiloto       82 non-null     int64 \n",
      " 1   Nome           82 non-null     object\n",
      " 2   AnoNascimento  82 non-null     object\n",
      " 3   IdPlaneta      82 non-null     int64 \n",
      "dtypes: int64(2), object(2)\n",
      "memory usage: 2.7+ KB\n"
     ]
    }
   ],
   "source": [
    "# converão da coluna 'IdPlaneta' para tipo numérico\n",
    "df_pilotos['IdPlaneta'] = pd.to_numeric(df_pilotos['IdPlaneta'], errors='coerce')\n",
    "df_pilotos.info()"
   ]
  },
  {
   "cell_type": "markdown",
   "id": "94c43b1f",
   "metadata": {},
   "source": [
    "### Registros de Naves"
   ]
  },
  {
   "cell_type": "code",
   "execution_count": 15,
   "id": "1b1f9c57",
   "metadata": {},
   "outputs": [
    {
     "name": "stdout",
     "output_type": "stream",
     "text": [
      "<class 'pandas.core.frame.DataFrame'>\n",
      "RangeIndex: 36 entries, 0 to 35\n",
      "Data columns (total 6 columns):\n",
      " #   Column  Non-Null Count  Dtype \n",
      "---  ------  --------------  ----- \n",
      " 0   0       36 non-null     int64 \n",
      " 1   1       36 non-null     object\n",
      " 2   2       36 non-null     object\n",
      " 3   3       36 non-null     object\n",
      " 4   4       36 non-null     object\n",
      " 5   5       36 non-null     object\n",
      "dtypes: int64(1), object(5)\n",
      "memory usage: 1.8+ KB\n"
     ]
    },
    {
     "data": {
      "text/html": [
       "<div>\n",
       "<style scoped>\n",
       "    .dataframe tbody tr th:only-of-type {\n",
       "        vertical-align: middle;\n",
       "    }\n",
       "\n",
       "    .dataframe tbody tr th {\n",
       "        vertical-align: top;\n",
       "    }\n",
       "\n",
       "    .dataframe thead th {\n",
       "        text-align: right;\n",
       "    }\n",
       "</style>\n",
       "<table border=\"1\" class=\"dataframe\">\n",
       "  <thead>\n",
       "    <tr style=\"text-align: right;\">\n",
       "      <th></th>\n",
       "      <th>0</th>\n",
       "      <th>1</th>\n",
       "      <th>2</th>\n",
       "      <th>3</th>\n",
       "      <th>4</th>\n",
       "      <th>5</th>\n",
       "    </tr>\n",
       "  </thead>\n",
       "  <tbody>\n",
       "    <tr>\n",
       "      <th>0</th>\n",
       "      <td>2</td>\n",
       "      <td>CR90 corvette</td>\n",
       "      <td>CR90 corvette</td>\n",
       "      <td>600</td>\n",
       "      <td>3000000</td>\n",
       "      <td>corvette</td>\n",
       "    </tr>\n",
       "    <tr>\n",
       "      <th>1</th>\n",
       "      <td>3</td>\n",
       "      <td>Star Destroyer</td>\n",
       "      <td>Imperial I-class Star Destroyer</td>\n",
       "      <td>n/a</td>\n",
       "      <td>36000000</td>\n",
       "      <td>Star Destroyer</td>\n",
       "    </tr>\n",
       "    <tr>\n",
       "      <th>2</th>\n",
       "      <td>5</td>\n",
       "      <td>Sentinel-class landing craft</td>\n",
       "      <td>Sentinel-class landing craft</td>\n",
       "      <td>75</td>\n",
       "      <td>180000</td>\n",
       "      <td>landing craft</td>\n",
       "    </tr>\n",
       "    <tr>\n",
       "      <th>3</th>\n",
       "      <td>9</td>\n",
       "      <td>Death Star</td>\n",
       "      <td>DS-1 Orbital Battle Station</td>\n",
       "      <td>843,342</td>\n",
       "      <td>1000000000000</td>\n",
       "      <td>Deep Space Mobile Battlestation</td>\n",
       "    </tr>\n",
       "    <tr>\n",
       "      <th>4</th>\n",
       "      <td>10</td>\n",
       "      <td>Millennium Falcon</td>\n",
       "      <td>YT-1300 light freighter</td>\n",
       "      <td>6</td>\n",
       "      <td>100000</td>\n",
       "      <td>Light freighter</td>\n",
       "    </tr>\n",
       "  </tbody>\n",
       "</table>\n",
       "</div>"
      ],
      "text/plain": [
       "    0                             1                                2        3  \\\n",
       "0   2                 CR90 corvette                    CR90 corvette      600   \n",
       "1   3                Star Destroyer  Imperial I-class Star Destroyer      n/a   \n",
       "2   5  Sentinel-class landing craft     Sentinel-class landing craft       75   \n",
       "3   9                    Death Star      DS-1 Orbital Battle Station  843,342   \n",
       "4  10             Millennium Falcon          YT-1300 light freighter        6   \n",
       "\n",
       "               4                                5  \n",
       "0        3000000                         corvette  \n",
       "1       36000000                   Star Destroyer  \n",
       "2         180000                    landing craft  \n",
       "3  1000000000000  Deep Space Mobile Battlestation  \n",
       "4         100000                  Light freighter  "
      ]
     },
     "execution_count": 15,
     "metadata": {},
     "output_type": "execute_result"
    }
   ],
   "source": [
    "# criação de dataframe a partir da lista de registros 'list_starships'\n",
    "df_naves = pd.DataFrame(list_starships)\n",
    "df_naves.info()\n",
    "df_naves.head()"
   ]
  },
  {
   "cell_type": "code",
   "execution_count": 16,
   "id": "b85362c3",
   "metadata": {},
   "outputs": [
    {
     "name": "stdout",
     "output_type": "stream",
     "text": [
      "<class 'pandas.core.frame.DataFrame'>\n",
      "RangeIndex: 36 entries, 0 to 35\n",
      "Data columns (total 6 columns):\n",
      " #   Column      Non-Null Count  Dtype \n",
      "---  ------      --------------  ----- \n",
      " 0   IdNave      36 non-null     int64 \n",
      " 1   Nome        36 non-null     object\n",
      " 2   Modelo      36 non-null     object\n",
      " 3   Passageiro  36 non-null     object\n",
      " 4   Carga       36 non-null     object\n",
      " 5   Classe      36 non-null     object\n",
      "dtypes: int64(1), object(5)\n",
      "memory usage: 1.8+ KB\n"
     ]
    }
   ],
   "source": [
    "# renomeação das colunas\n",
    "df_naves = df_naves.rename(columns={0:'IdNave', 1:'Nome', 2:'Modelo', 3:'Passageiro', 4:'Carga', 5:'Classe'})\n",
    "df_naves.info()"
   ]
  },
  {
   "cell_type": "code",
   "execution_count": 17,
   "id": "85162a65",
   "metadata": {},
   "outputs": [
    {
     "name": "stdout",
     "output_type": "stream",
     "text": [
      "<class 'pandas.core.frame.DataFrame'>\n",
      "RangeIndex: 36 entries, 0 to 35\n",
      "Data columns (total 6 columns):\n",
      " #   Column      Non-Null Count  Dtype  \n",
      "---  ------      --------------  -----  \n",
      " 0   IdNave      36 non-null     int64  \n",
      " 1   Nome        36 non-null     object \n",
      " 2   Modelo      36 non-null     object \n",
      " 3   Passageiro  31 non-null     float64\n",
      " 4   Carga       29 non-null     float32\n",
      " 5   Classe      36 non-null     object \n",
      "dtypes: float32(1), float64(1), int64(1), object(3)\n",
      "memory usage: 1.7+ KB\n"
     ]
    }
   ],
   "source": [
    "# converão de colunas para tipos numéricos\n",
    "df_naves['Passageiro'] = pd.to_numeric(df_naves['Passageiro'], errors='coerce')\n",
    "df_naves['Carga'] = pd.to_numeric(df_naves['Carga'], downcast='float', errors='coerce')\n",
    "df_naves.info()"
   ]
  },
  {
   "cell_type": "code",
   "execution_count": 18,
   "id": "b019a182",
   "metadata": {},
   "outputs": [
    {
     "name": "stdout",
     "output_type": "stream",
     "text": [
      "<class 'pandas.core.frame.DataFrame'>\n",
      "RangeIndex: 36 entries, 0 to 35\n",
      "Data columns (total 6 columns):\n",
      " #   Column      Non-Null Count  Dtype  \n",
      "---  ------      --------------  -----  \n",
      " 0   IdNave      36 non-null     int64  \n",
      " 1   Nome        36 non-null     object \n",
      " 2   Modelo      36 non-null     object \n",
      " 3   Passageiro  36 non-null     float64\n",
      " 4   Carga       36 non-null     float32\n",
      " 5   Classe      36 non-null     object \n",
      "dtypes: float32(1), float64(1), int64(1), object(3)\n",
      "memory usage: 1.7+ KB\n"
     ]
    }
   ],
   "source": [
    "# substituição de valores nulos por 0 (zero)\n",
    "df_naves = df_naves.fillna(0)\n",
    "df_naves.info()"
   ]
  },
  {
   "cell_type": "markdown",
   "id": "77e28fa1",
   "metadata": {},
   "source": [
    "---\n",
    "\n",
    "# Load\n",
    "\n",
    "Carregamento no Banco de Dados já modelado do SQL Server.\n",
    "\n",
    "---"
   ]
  },
  {
   "cell_type": "code",
   "execution_count": 19,
   "id": "897ed7d5",
   "metadata": {},
   "outputs": [],
   "source": [
    "# Importação da biblioteca pyodbc para criar conexão com o SGBD SQL Server\n",
    "import pyodbc\n",
    "\n",
    "str_conn = (\n",
    "            \"Driver={SQL Server};\"\n",
    "            \"Server=LUND\\SQLEXPRESS;\"\n",
    "            \"Database=StarWars;\"\n",
    "            \"Trusted_Connection=yes;\"\n",
    "            )\n",
    "conn = pyodbc.connect(str_conn)\n",
    "cursor = conn.cursor()"
   ]
  },
  {
   "cell_type": "markdown",
   "id": "b0590a9b",
   "metadata": {},
   "source": [
    "### Carregamento na Tabela Planetas"
   ]
  },
  {
   "cell_type": "code",
   "execution_count": 20,
   "id": "b157881f",
   "metadata": {
    "scrolled": true
   },
   "outputs": [],
   "source": [
    "for index, row in df_planetas.iterrows():\n",
    "    cursor.execute(f\"\"\"INSERT INTO Planetas(IdPlaneta, Nome, Rotacao, Orbita, Diametro, Clima, Populacao) \n",
    "                        VALUES({row['IdPlaneta']}, '{row['Nome']}', {row['Rotacao']}, \n",
    "                                {row['Orbita']}, {row['Diametro']}, '{row['Clima']}', \n",
    "                                {row['Populacao']})\"\"\")\n",
    "    cursor.commit()"
   ]
  },
  {
   "cell_type": "markdown",
   "id": "ff120a48",
   "metadata": {},
   "source": [
    "### Carregamento na Tabela Pilotos"
   ]
  },
  {
   "cell_type": "code",
   "execution_count": 21,
   "id": "ef691e96",
   "metadata": {},
   "outputs": [],
   "source": [
    "for index, row in df_pilotos.iterrows():\n",
    "    cursor.execute(f\"\"\"INSERT INTO Pilotos(IdPiloto, Nome, AnoNascimento, IdPlaneta) \n",
    "                        VALUES({row['IdPiloto']}, '{row['Nome']}', '{row['AnoNascimento']}', \n",
    "                                {row['IdPlaneta']})\"\"\")\n",
    "    cursor.commit()"
   ]
  },
  {
   "cell_type": "markdown",
   "id": "c9ed2c8a",
   "metadata": {},
   "source": [
    "### Carregamento na Tabela Naves"
   ]
  },
  {
   "cell_type": "code",
   "execution_count": 22,
   "id": "cd7f18a9",
   "metadata": {},
   "outputs": [],
   "source": [
    "for index, row in df_naves.iterrows():\n",
    "    cursor.execute(f\"\"\"INSERT INTO Naves(IdNave, Nome, Modelo, Passageiro, Carga, Classe) \n",
    "                        VALUES({row['IdNave']}, '{row['Nome']}', '{row['Modelo']}', \n",
    "                                {row['Passageiro']}, {row['Carga']}, '{row['Classe']}')\"\"\")\n",
    "    cursor.commit()"
   ]
  },
  {
   "cell_type": "markdown",
   "id": "9ce76bc2",
   "metadata": {},
   "source": [
    "### Finalização da Conexão com o SGBD"
   ]
  },
  {
   "cell_type": "code",
   "execution_count": 23,
   "id": "4e38d242",
   "metadata": {},
   "outputs": [],
   "source": [
    "cursor.close()\n",
    "conn.close()"
   ]
  }
 ],
 "metadata": {
  "kernelspec": {
   "display_name": "Python 3",
   "language": "python",
   "name": "python3"
  },
  "language_info": {
   "codemirror_mode": {
    "name": "ipython",
    "version": 3
   },
   "file_extension": ".py",
   "mimetype": "text/x-python",
   "name": "python",
   "nbconvert_exporter": "python",
   "pygments_lexer": "ipython3",
   "version": "3.9.12"
  }
 },
 "nbformat": 4,
 "nbformat_minor": 5
}
